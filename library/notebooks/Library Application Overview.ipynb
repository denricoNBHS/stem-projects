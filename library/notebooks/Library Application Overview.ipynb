 {
 "cells": [
  {
   "cell_type": "markdown",
   "metadata": {},
   "source": [
    "# Writing a Library Application"
   ]
  },
  {
   "cell_type": "markdown",
   "metadata": {},
   "source": [
    "### Problem:\n",
    "\n",
    "Mr. Enrico loves to share his personal library with his students, but has a terrible memory when it comes to keeping track of where his books have gone. He'd like you to write a program that can help him track his lending."
   ]
  },
  {
   "cell_type": "markdown",
   "metadata": {},
   "source": [
    "### Specifications:\n",
    "\n",
    "The program must:\n",
    "*  __persistently__ track the status of Mr. E's books. i.e. when the program exits, the data shouldn't reset/disappear.\n",
    "* allow Mr. E to add or remove books from his library.\n",
    "* be able to report the status of the library at any given time, letting Mr. E know which books are checked out and to whom.\n",
    "* have a process for checking out and returning books.\n",
    "\n",
    "You may assume:\n",
    "* Mr. E only has one copy of each book\n",
    "* Mr. E acts in good faith and will use your program as instructed - because of this you can ignore input validation and error handling."
   ]
  },
  {
   "cell_type": "markdown",
   "metadata": {},
   "source": [
    "### Tips:\n",
    "\n",
    "* Each book's [ISBN](http://www.isbnsearch.org/) is unique.\n",
    "* Student ID numbers are also unique.\n",
    "* There are many different ways to store data persistently - you can use [plain text files](https://docs.python.org/3/tutorial/inputoutput.html#reading-and-writing-files) with [JSON](http://www.w3schools.com/js/js_json_intro.asp) or [csv](https://docs.python.org/3/library/csv.html), [pickle/shelve](https://docs.python.org/3/library/pickle.html), or a [sqlite](https://docs.python.org/3/library/sqlite3.html) database. Use the method that makes the most sense to you (I'll be using JSON for test data below)"
   ]
  },
  {
   "cell_type": "markdown",
   "metadata": {},
   "source": [
    "### Data:\n",
    "\n",
    "In the `data/` directory, you'll find a file with plain-text sample data for you to use for testing. I've used to keep things looking familiar and dictionary-like, but feel free to use any format for data storage that tickles your fancy. \n",
    "\n",
    "Running the code below will pull my sample data into this notebook for you."
   ]
  },
  {
   "cell_type": "code",
   "execution_count": 1,
   "metadata": {
    "collapsed": false
   },
   "outputs": [
    {
     "name": "stdout",
     "output_type": "stream",
     "text": [
      "Students:\n",
      "\n",
      "1000: {'first_name': 'John', 'last_name': 'Lennon'}\n",
      "1001: {'first_name': 'Paul', 'last_name': 'McCartney'}\n",
      "1003: {'first_name': 'Ringo', 'last_name': 'Starr'}\n",
      "1002: {'first_name': 'George', 'last_name': 'Harrison'}\n",
      "\n",
      "Books:\n",
      "\n",
      "9780465025275: {'title': 'Six Easy Pieces: Essentials of Physics Explained by Its Most Brilliant Teacher', 'author': 'Ralph Leighton'}\n",
      "9780394800011: {'title': 'The Cat in the Hat', 'author': 'Dr. Seuss'}\n",
      "9780553380163: {'title': 'A Brief History of Time', 'author': 'Stephen Hawking'}\n",
      "9781420946338: {'title': 'Relativity: The Special and General Theory', 'author': 'Albert Einstein'}\n",
      "\n",
      "\n",
      "Lookup ISBN 9780394800011:\n",
      "{'title': 'The Cat in the Hat', 'author': 'Dr. Seuss'}\n"
     ]
    }
   ],
   "source": [
    "# Loads data from file into two variables: students and books.\n",
    "# Each student/book is treated as a dictionary keyed by id/isbn.\n",
    "# students['<id #>'] yields a dictionary of student first and last name\n",
    "# books['<isbn #>'] yields a dictionary of title and author\n",
    "\n",
    "import json\n",
    "\n",
    "with open('data/test.json') as f:\n",
    "    data = json.load(f)\n",
    "\n",
    "books = data['books']\n",
    "students = data['students']\n",
    "\n",
    "#Examples\n",
    "print('Students:\\n')\n",
    "for key, value in students.items():\n",
    "    print('%s: %s' % (key, value))\n",
    "\n",
    "print('\\nBooks:\\n')\n",
    "for key, value in books.items():\n",
    "    print('%s: %s' % (key, value))\n",
    "\n",
    "print('\\n')\n",
    "print('Lookup ISBN 9780394800011:')\n",
    "print(books['9780394800011'])"
   ]
  },
  {
   "cell_type": "code",
   "execution_count": null,
   "metadata": {
    "collapsed": true
   },
   "outputs": [],
   "source": []
  }
 ],
 "metadata": {
  "kernelspec": {
   "display_name": "Python 3",
   "language": "python",
   "name": "python3"
  },
  "language_info": {
   "codemirror_mode": {
    "name": "ipython",
    "version": 3
   },
   "file_extension": ".py",
   "mimetype": "text/x-python",
   "name": "python",
   "nbconvert_exporter": "python",
   "pygments_lexer": "ipython3",
   "version": "3.5.2"
  }
 },
 "nbformat": 4,
 "nbformat_minor": 1
}
what 
